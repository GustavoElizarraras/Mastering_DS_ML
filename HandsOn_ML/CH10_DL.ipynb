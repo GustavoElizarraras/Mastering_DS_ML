{
 "cells": [
  {
   "cell_type": "markdown",
   "metadata": {},
   "source": [
    "# Chapter 10 - Introducing DL and TF\n",
    "\n",
    "### Classification"
   ]
  },
  {
   "cell_type": "code",
   "execution_count": 21,
   "metadata": {},
   "outputs": [],
   "source": [
    "import tensorflow as tf\n",
    "from tensorflow import keras\n",
    "import numpy as np"
   ]
  },
  {
   "cell_type": "code",
   "execution_count": 3,
   "metadata": {},
   "outputs": [],
   "source": [
    "# Loading fashion MNIST dataset\n",
    "fashion_mnist = keras.datasets.fashion_mnist\n",
    "(X_train_full, y_train_full), (X_test, y_test) = fashion_mnist.load_data()\n"
   ]
  },
  {
   "cell_type": "code",
   "execution_count": 4,
   "metadata": {},
   "outputs": [
    {
     "name": "stdout",
     "output_type": "stream",
     "text": [
      "(60000, 28, 28)\n",
      "uint8\n"
     ]
    }
   ],
   "source": [
    "# datasets insights\n",
    "print(X_train_full.shape)\n",
    "print(X_train_full.dtype)"
   ]
  },
  {
   "cell_type": "code",
   "execution_count": 5,
   "metadata": {},
   "outputs": [],
   "source": [
    "# creating validation set and scaling images\n",
    "X_valid, X_train = X_train_full[:5000] / 255.0, X_train_full[5000:] / 255.0\n",
    "y_valid, y_train = y_train_full[:5000], y_train_full[5000:]"
   ]
  },
  {
   "cell_type": "code",
   "execution_count": 6,
   "metadata": {},
   "outputs": [
    {
     "data": {
      "text/plain": [
       "'Coat'"
      ]
     },
     "execution_count": 6,
     "metadata": {},
     "output_type": "execute_result"
    }
   ],
   "source": [
    "# index assigment to the class images\n",
    "class_names = [\"T-shirt/top\", \"Trouser\", \"Pullover\", \"Dress\", \"Coat\",\n",
    "\"Sandal\", \"Shirt\", \"Sneaker\", \"Bag\", \"Ankle boot\"]\n",
    "class_names[y_train[0]]"
   ]
  },
  {
   "cell_type": "code",
   "execution_count": 7,
   "metadata": {},
   "outputs": [
    {
     "name": "stderr",
     "output_type": "stream",
     "text": [
      "2022-01-02 15:18:33.672943: I tensorflow/core/platform/cpu_feature_guard.cc:142] This TensorFlow binary is optimized with oneAPI Deep Neural Network Library (oneDNN) to use the following CPU instructions in performance-critical operations:  AVX2 FMA\n",
      "To enable them in other operations, rebuild TensorFlow with the appropriate compiler flags.\n"
     ]
    }
   ],
   "source": [
    "# Model using the Sequential API\n",
    "model = keras.models.Sequential()\n",
    "# flatten computes the same as using X.reshape(-1, 1)\n",
    "model.add(keras.layers.Flatten(input_shape=[28, 28]))\n",
    "model.add(keras.layers.Dense(300, activation=\"relu\"))\n",
    "model.add(keras.layers.Dense(100, activation=\"relu\"))\n",
    "# softmax for multi class classification\n",
    "model.add(keras.layers.Dense(10, activation=\"softmax\"))"
   ]
  },
  {
   "cell_type": "code",
   "execution_count": 8,
   "metadata": {},
   "outputs": [],
   "source": [
    "# We can pass a list of layers\n",
    "model = keras.models.Sequential([\n",
    "# flatten computes the same as using X.reshape(-1, 1)\n",
    "    keras.layers.Flatten(input_shape=[28, 28]),\n",
    "    keras.layers.Dense(300, activation=\"relu\"),\n",
    "    keras.layers.Dense(100, activation=\"relu\"),\n",
    "    keras.layers.Dense(10, activation=\"softmax\")\n",
    "])"
   ]
  },
  {
   "cell_type": "code",
   "execution_count": 9,
   "metadata": {},
   "outputs": [
    {
     "name": "stdout",
     "output_type": "stream",
     "text": [
      "Model: \"sequential_1\"\n",
      "_________________________________________________________________\n",
      "Layer (type)                 Output Shape              Param #   \n",
      "=================================================================\n",
      "flatten_1 (Flatten)          (None, 784)               0         \n",
      "_________________________________________________________________\n",
      "dense_3 (Dense)              (None, 300)               235500    \n",
      "_________________________________________________________________\n",
      "dense_4 (Dense)              (None, 100)               30100     \n",
      "_________________________________________________________________\n",
      "dense_5 (Dense)              (None, 10)                1010      \n",
      "=================================================================\n",
      "Total params: 266,610\n",
      "Trainable params: 266,610\n",
      "Non-trainable params: 0\n",
      "_________________________________________________________________\n"
     ]
    }
   ],
   "source": [
    "model.summary()"
   ]
  },
  {
   "cell_type": "markdown",
   "metadata": {},
   "source": [
    "In the dense layer are a lot of trainable parameters, but this can mean overfitting, especially if we don't have a lot of training data."
   ]
  },
  {
   "cell_type": "code",
   "execution_count": 10,
   "metadata": {},
   "outputs": [
    {
     "name": "stdout",
     "output_type": "stream",
     "text": [
      "[[-0.04094823 -0.06484979 -0.06214181 ...  0.02847133 -0.03779142\n",
      "  -0.07006058]\n",
      " [-0.01780953  0.03537125  0.02749476 ... -0.03493334  0.03907974\n",
      "   0.05217421]\n",
      " [-0.01290033 -0.0607337   0.04049524 ... -0.01717551  0.03696581\n",
      "  -0.06738206]\n",
      " ...\n",
      " [ 0.05619214  0.02518968  0.00406668 ... -0.04470732  0.00969991\n",
      "  -0.02506723]\n",
      " [-0.00665344 -0.04226232  0.01060253 ... -0.05347344 -0.00094701\n",
      "   0.06651762]\n",
      " [-0.06754795 -0.03428278 -0.0381333  ... -0.02397911 -0.01714364\n",
      "   0.03286845]]\n",
      "[0. 0. 0. 0. 0. 0. 0. 0. 0. 0. 0. 0. 0. 0. 0. 0. 0. 0. 0. 0. 0. 0. 0. 0.\n",
      " 0. 0. 0. 0. 0. 0. 0. 0. 0. 0. 0. 0. 0. 0. 0. 0. 0. 0. 0. 0. 0. 0. 0. 0.\n",
      " 0. 0. 0. 0. 0. 0. 0. 0. 0. 0. 0. 0. 0. 0. 0. 0. 0. 0. 0. 0. 0. 0. 0. 0.\n",
      " 0. 0. 0. 0. 0. 0. 0. 0. 0. 0. 0. 0. 0. 0. 0. 0. 0. 0. 0. 0. 0. 0. 0. 0.\n",
      " 0. 0. 0. 0. 0. 0. 0. 0. 0. 0. 0. 0. 0. 0. 0. 0. 0. 0. 0. 0. 0. 0. 0. 0.\n",
      " 0. 0. 0. 0. 0. 0. 0. 0. 0. 0. 0. 0. 0. 0. 0. 0. 0. 0. 0. 0. 0. 0. 0. 0.\n",
      " 0. 0. 0. 0. 0. 0. 0. 0. 0. 0. 0. 0. 0. 0. 0. 0. 0. 0. 0. 0. 0. 0. 0. 0.\n",
      " 0. 0. 0. 0. 0. 0. 0. 0. 0. 0. 0. 0. 0. 0. 0. 0. 0. 0. 0. 0. 0. 0. 0. 0.\n",
      " 0. 0. 0. 0. 0. 0. 0. 0. 0. 0. 0. 0. 0. 0. 0. 0. 0. 0. 0. 0. 0. 0. 0. 0.\n",
      " 0. 0. 0. 0. 0. 0. 0. 0. 0. 0. 0. 0. 0. 0. 0. 0. 0. 0. 0. 0. 0. 0. 0. 0.\n",
      " 0. 0. 0. 0. 0. 0. 0. 0. 0. 0. 0. 0. 0. 0. 0. 0. 0. 0. 0. 0. 0. 0. 0. 0.\n",
      " 0. 0. 0. 0. 0. 0. 0. 0. 0. 0. 0. 0. 0. 0. 0. 0. 0. 0. 0. 0. 0. 0. 0. 0.\n",
      " 0. 0. 0. 0. 0. 0. 0. 0. 0. 0. 0. 0.]\n"
     ]
    }
   ],
   "source": [
    "# Accesing parameters\n",
    "weights, biases = model.layers[1].get_weights()\n",
    "print(weights)\n",
    "print(biases)"
   ]
  },
  {
   "cell_type": "markdown",
   "metadata": {},
   "source": [
    "If we ever want another weights or biases initialization, we can\n",
    "set _kernel_initializer_ or _bias_initializer_ when creating a layer.\n",
    "\n",
    "If there isn't the input_shape, Keras will figure it out when feeding the data or calling the _build()_ method. But the random initialization won't happen until then."
   ]
  },
  {
   "cell_type": "code",
   "execution_count": 11,
   "metadata": {},
   "outputs": [],
   "source": [
    "# Compiling the model and specifying the loss function and the optimizer\n",
    "model.compile(loss=\"sparse_categorical_crossentropy\",\n",
    "              optimizer=\"sgd\",\n",
    "              metrics=[\"accuracy\"])\n",
    "# Is the same using:\n",
    "# keras.metrics.sparse_categorical_accuracy and keras.optimizers.SGD()"
   ]
  },
  {
   "cell_type": "markdown",
   "metadata": {},
   "source": [
    "We use __sparse_categorical_crossentropy__ loss because we have sparse labels (10 classes, we only predict one), we would use __categorical_crossentropy__ if we had one target probability per class for each instance (ex, one hot vectors, class1=[1, 0 ... 0]). If it were binary classification, in the last layer we would use the __sigmoid__ activation function and __binary_crossentropy__ as the loss.\n",
    "\n",
    "To convert to 1-hot-vector from sparse, use: _keras.utils.to_categorical()_ . The other way around: _argmax(axis=1)_ \n",
    "\n",
    "Using _optimizer=\"sgd\"_ defaults to lr=0.01. Better: _keras-optimizers.SGD(lr=???)_\n",
    "\n",
    "Since this is a classifier, an useful measure is _accuracy_"
   ]
  },
  {
   "cell_type": "code",
   "execution_count": 12,
   "metadata": {},
   "outputs": [
    {
     "name": "stderr",
     "output_type": "stream",
     "text": [
      "2022-01-02 15:18:38.091524: I tensorflow/compiler/mlir/mlir_graph_optimization_pass.cc:176] None of the MLIR Optimization Passes are enabled (registered 2)\n",
      "2022-01-02 15:18:38.137957: I tensorflow/core/platform/profile_utils/cpu_utils.cc:114] CPU Frequency: 2901210000 Hz\n"
     ]
    },
    {
     "name": "stdout",
     "output_type": "stream",
     "text": [
      "Epoch 1/30\n",
      "1719/1719 [==============================] - 6s 2ms/step - loss: 0.7127 - accuracy: 0.7648 - val_loss: 0.5502 - val_accuracy: 0.8094\n",
      "Epoch 2/30\n",
      "1719/1719 [==============================] - 4s 2ms/step - loss: 0.4891 - accuracy: 0.8319 - val_loss: 0.4497 - val_accuracy: 0.8460\n",
      "Epoch 3/30\n",
      "1719/1719 [==============================] - 4s 2ms/step - loss: 0.4444 - accuracy: 0.8446 - val_loss: 0.4365 - val_accuracy: 0.8532\n",
      "Epoch 4/30\n",
      "1719/1719 [==============================] - 4s 2ms/step - loss: 0.4160 - accuracy: 0.8540 - val_loss: 0.4153 - val_accuracy: 0.8544\n",
      "Epoch 5/30\n",
      "1719/1719 [==============================] - 4s 2ms/step - loss: 0.3965 - accuracy: 0.8613 - val_loss: 0.3848 - val_accuracy: 0.8638\n",
      "Epoch 6/30\n",
      "1719/1719 [==============================] - 4s 2ms/step - loss: 0.3801 - accuracy: 0.8655 - val_loss: 0.3746 - val_accuracy: 0.8702\n",
      "Epoch 7/30\n",
      "1719/1719 [==============================] - 4s 2ms/step - loss: 0.3654 - accuracy: 0.8716 - val_loss: 0.3727 - val_accuracy: 0.8698\n",
      "Epoch 8/30\n",
      "1719/1719 [==============================] - 4s 2ms/step - loss: 0.3538 - accuracy: 0.8747 - val_loss: 0.3559 - val_accuracy: 0.8742\n",
      "Epoch 9/30\n",
      "1719/1719 [==============================] - 4s 3ms/step - loss: 0.3432 - accuracy: 0.8785 - val_loss: 0.3583 - val_accuracy: 0.8720\n",
      "Epoch 10/30\n",
      "1719/1719 [==============================] - 5s 3ms/step - loss: 0.3348 - accuracy: 0.8805 - val_loss: 0.3540 - val_accuracy: 0.8752\n",
      "Epoch 11/30\n",
      "1719/1719 [==============================] - 5s 3ms/step - loss: 0.3251 - accuracy: 0.8840 - val_loss: 0.3822 - val_accuracy: 0.8606\n",
      "Epoch 12/30\n",
      "1719/1719 [==============================] - 5s 3ms/step - loss: 0.3175 - accuracy: 0.8869 - val_loss: 0.3709 - val_accuracy: 0.8682\n",
      "Epoch 13/30\n",
      "1719/1719 [==============================] - 5s 3ms/step - loss: 0.3107 - accuracy: 0.8886 - val_loss: 0.3432 - val_accuracy: 0.8768\n",
      "Epoch 14/30\n",
      "1719/1719 [==============================] - 5s 3ms/step - loss: 0.3038 - accuracy: 0.8913 - val_loss: 0.3247 - val_accuracy: 0.8814\n",
      "Epoch 15/30\n",
      "1719/1719 [==============================] - 5s 3ms/step - loss: 0.2974 - accuracy: 0.8943 - val_loss: 0.3216 - val_accuracy: 0.8864\n",
      "Epoch 16/30\n",
      "1719/1719 [==============================] - 5s 3ms/step - loss: 0.2900 - accuracy: 0.8957 - val_loss: 0.3239 - val_accuracy: 0.8818\n",
      "Epoch 17/30\n",
      "1719/1719 [==============================] - 5s 3ms/step - loss: 0.2850 - accuracy: 0.8970 - val_loss: 0.3204 - val_accuracy: 0.8868\n",
      "Epoch 18/30\n",
      "1719/1719 [==============================] - 5s 3ms/step - loss: 0.2787 - accuracy: 0.8999 - val_loss: 0.3320 - val_accuracy: 0.8766\n",
      "Epoch 19/30\n",
      "1719/1719 [==============================] - 5s 3ms/step - loss: 0.2746 - accuracy: 0.9009 - val_loss: 0.3210 - val_accuracy: 0.8814\n",
      "Epoch 20/30\n",
      "1719/1719 [==============================] - 5s 3ms/step - loss: 0.2685 - accuracy: 0.9035 - val_loss: 0.3036 - val_accuracy: 0.8904\n",
      "Epoch 21/30\n",
      "1719/1719 [==============================] - 5s 3ms/step - loss: 0.2638 - accuracy: 0.9045 - val_loss: 0.3029 - val_accuracy: 0.8918\n",
      "Epoch 22/30\n",
      "1719/1719 [==============================] - 5s 3ms/step - loss: 0.2594 - accuracy: 0.9074 - val_loss: 0.3182 - val_accuracy: 0.8844\n",
      "Epoch 23/30\n",
      "1719/1719 [==============================] - 5s 3ms/step - loss: 0.2550 - accuracy: 0.9087 - val_loss: 0.3086 - val_accuracy: 0.8900\n",
      "Epoch 24/30\n",
      "1719/1719 [==============================] - 5s 3ms/step - loss: 0.2516 - accuracy: 0.9097 - val_loss: 0.3096 - val_accuracy: 0.8888\n",
      "Epoch 25/30\n",
      "1719/1719 [==============================] - 5s 3ms/step - loss: 0.2461 - accuracy: 0.9112 - val_loss: 0.3210 - val_accuracy: 0.8854\n",
      "Epoch 26/30\n",
      "1719/1719 [==============================] - 5s 3ms/step - loss: 0.2429 - accuracy: 0.9131 - val_loss: 0.3123 - val_accuracy: 0.8854\n",
      "Epoch 27/30\n",
      "1719/1719 [==============================] - 5s 3ms/step - loss: 0.2382 - accuracy: 0.9142 - val_loss: 0.3084 - val_accuracy: 0.8872\n",
      "Epoch 28/30\n",
      "1719/1719 [==============================] - 5s 3ms/step - loss: 0.2342 - accuracy: 0.9152 - val_loss: 0.2989 - val_accuracy: 0.8934\n",
      "Epoch 29/30\n",
      "1719/1719 [==============================] - 5s 3ms/step - loss: 0.2304 - accuracy: 0.9178 - val_loss: 0.3036 - val_accuracy: 0.8922\n",
      "Epoch 30/30\n",
      "1719/1719 [==============================] - 5s 3ms/step - loss: 0.2271 - accuracy: 0.9174 - val_loss: 0.3024 - val_accuracy: 0.8892\n"
     ]
    }
   ],
   "source": [
    "# Training\n",
    "history = model.fit(X_train, y_train, epochs=30,\n",
    "                    validation_data=(X_valid, y_valid))\n",
    "# Keras displays the metrics during the training"
   ]
  },
  {
   "cell_type": "markdown",
   "metadata": {},
   "source": [
    "Instead of passing a validation_data argument, we can set _validation_split_ =0.2 (for example), to get a 20% validation split from the training.\n",
    "\n",
    "If the training set was very skewed, with some classes being overrepresented and other underrepresented, setting _class_weight_ argument in the __fit()__ method, would give larger weight to the underrepresented classes and viceversa, this weights are used when computing the loss. If we need per-instance weights (some data is better than other), _sample_weight_ argument can help us, if both of these are used, Keras multiply them."
   ]
  },
  {
   "cell_type": "code",
   "execution_count": 15,
   "metadata": {},
   "outputs": [
    {
     "data": {
      "text/plain": [
       "Text(0.5, 0, 'epoch')"
      ]
     },
     "execution_count": 15,
     "metadata": {},
     "output_type": "execute_result"
    },
    {
     "data": {
      "image/png": "[encoded data removed]",
      "text/plain": [
       "<Figure size 576x360 with 1 Axes>"
      ]
     },
     "metadata": {
      "needs_background": "light"
     },
     "output_type": "display_data"
    }
   ],
   "source": [
    "import pandas as pd\n",
    "import matplotlib.pyplot as plt\n",
    "# plotting the measurments in the history object\n",
    "pd.DataFrame(history.history).plot(figsize=(8, 5))\n",
    "plt.grid(True)\n",
    "plt.gca().set_ylim(0, 1)\n",
    "plt.xlabel(\"epoch\")"
   ]
  },
  {
   "cell_type": "markdown",
   "metadata": {},
   "source": [
    "The validation error is computed at the end of each epoch, while the training error is computed using a running mean during each epoch. So the training curve should be shifted by half an epoch to the left."
   ]
  },
  {
   "cell_type": "code",
   "execution_count": 18,
   "metadata": {},
   "outputs": [
    {
     "name": "stdout",
     "output_type": "stream",
     "text": [
      "313/313 [==============================] - 1s 2ms/step - loss: 57.4205 - accuracy: 0.8533\n"
     ]
    },
    {
     "data": {
      "text/plain": [
       "[57.42045593261719, 0.8532999753952026]"
      ]
     },
     "execution_count": 18,
     "metadata": {},
     "output_type": "execute_result"
    }
   ],
   "source": [
    "# Using the evaluate() method\n",
    "model.evaluate(X_test, y_test)"
   ]
  },
  {
   "cell_type": "code",
   "execution_count": 20,
   "metadata": {},
   "outputs": [
    {
     "data": {
      "text/plain": [
       "array([[0., 0., 0., 0., 0., 0., 0., 0., 0., 1.],\n",
       "       [0., 0., 1., 0., 0., 0., 0., 0., 0., 0.],\n",
       "       [0., 1., 0., 0., 0., 0., 0., 0., 0., 0.]], dtype=float32)"
      ]
     },
     "execution_count": 20,
     "metadata": {},
     "output_type": "execute_result"
    }
   ],
   "source": [
    "# Making predictions\n",
    "X_pred3 = X_test[:3]\n",
    "y_proba = model.predict(X_pred3)\n",
    "y_proba.round(2)"
   ]
  },
  {
   "cell_type": "code",
   "execution_count": 22,
   "metadata": {},
   "outputs": [
    {
     "name": "stdout",
     "output_type": "stream",
     "text": [
      "[9 2 1]\n"
     ]
    },
    {
     "name": "stderr",
     "output_type": "stream",
     "text": [
      "/usr/local/lib/python3.8/site-packages/tensorflow/python/keras/engine/sequential.py:455: UserWarning: `model.predict_classes()` is deprecated and will be removed after 2021-01-01. Please use instead:* `np.argmax(model.predict(x), axis=-1)`,   if your model does multi-class classification   (e.g. if it uses a `softmax` last-layer activation).* `(model.predict(x) > 0.5).astype(\"int32\")`,   if your model does binary classification   (e.g. if it uses a `sigmoid` last-layer activation).\n",
      "  warnings.warn('`model.predict_classes()` is deprecated and '\n"
     ]
    },
    {
     "data": {
      "text/plain": [
       "array(['Ankle boot', 'Pullover', 'Trouser'], dtype='<U11')"
      ]
     },
     "execution_count": 22,
     "metadata": {},
     "output_type": "execute_result"
    }
   ],
   "source": [
    "y_pred = model.predict_classes(X_pred3)\n",
    "print(y_pred)\n",
    "np.array(class_names)[y_pred]"
   ]
  },
  {
   "cell_type": "code",
   "execution_count": 24,
   "metadata": {},
   "outputs": [
    {
     "data": {
      "text/plain": [
       "array(['Ankle boot', 'Pullover', 'Trouser'], dtype='<U11')"
      ]
     },
     "execution_count": 24,
     "metadata": {},
     "output_type": "execute_result"
    }
   ],
   "source": [
    "np.array(class_names)[np.argmax(y_proba, axis=1)]"
   ]
  },
  {
   "cell_type": "markdown",
   "metadata": {},
   "source": [
    "### Regression"
   ]
  },
  {
   "cell_type": "code",
   "execution_count": 26,
   "metadata": {},
   "outputs": [],
   "source": [
    "from sklearn.datasets import fetch_california_housing\n",
    "from sklearn.model_selection import train_test_split\n",
    "from sklearn.preprocessing import StandardScaler"
   ]
  },
  {
   "cell_type": "code",
   "execution_count": 29,
   "metadata": {},
   "outputs": [],
   "source": [
    "housing = fetch_california_housing()\n",
    "X_train_full, X_test, y_train_full, y_test = train_test_split(housing.data, housing.target)\n",
    "X_train, X_valid, y_train, y_valid = train_test_split(X_train_full, y_train_full)\n",
    "\n",
    "scaler = StandardScaler()\n",
    "X_train = scaler.fit_transform(X_train)\n",
    "X_valid = scaler.transform(X_valid)\n",
    "X_test = scaler.transform(X_test)"
   ]
  },
  {
   "cell_type": "code",
   "execution_count": 39,
   "metadata": {},
   "outputs": [],
   "source": [
    "# The output layer has a single neuron with no activation function, the loss is mse.\n",
    "model = keras.models.Sequential([\n",
    "    # the data is noisy, to avoid overfitting we only use one neuron\n",
    "    keras.layers.Dense(30, activation=\"relu\", input_shape=X_train.shape[1:]),\n",
    "    keras.layers.Dense(1)\n",
    "])"
   ]
  },
  {
   "cell_type": "code",
   "execution_count": 40,
   "metadata": {},
   "outputs": [
    {
     "name": "stdout",
     "output_type": "stream",
     "text": [
      "Epoch 1/20\n",
      "363/363 [==============================] - 1s 2ms/step - loss: 0.8075 - val_loss: 0.5327\n",
      "Epoch 2/20\n",
      "363/363 [==============================] - 0s 1ms/step - loss: 0.6633 - val_loss: 0.4751\n",
      "Epoch 3/20\n",
      "363/363 [==============================] - 0s 1ms/step - loss: 0.5335 - val_loss: 0.4278\n",
      "Epoch 4/20\n",
      "363/363 [==============================] - 0s 986us/step - loss: 0.4499 - val_loss: 0.4008\n",
      "Epoch 5/20\n",
      "363/363 [==============================] - 0s 990us/step - loss: 0.4361 - val_loss: 0.3937\n",
      "Epoch 6/20\n",
      "363/363 [==============================] - 0s 1ms/step - loss: 0.4291 - val_loss: 0.3815\n",
      "Epoch 7/20\n",
      "363/363 [==============================] - 0s 1ms/step - loss: 0.4135 - val_loss: 0.3792\n",
      "Epoch 8/20\n",
      "363/363 [==============================] - 0s 1ms/step - loss: 0.4112 - val_loss: 0.3696\n",
      "Epoch 9/20\n",
      "363/363 [==============================] - 0s 1ms/step - loss: 0.6253 - val_loss: 0.3918\n",
      "Epoch 10/20\n",
      "363/363 [==============================] - 0s 1ms/step - loss: 0.4319 - val_loss: 0.3807\n",
      "Epoch 11/20\n",
      "363/363 [==============================] - 0s 1ms/step - loss: 0.4083 - val_loss: 0.3747\n",
      "Epoch 12/20\n",
      "363/363 [==============================] - 0s 1ms/step - loss: 0.4017 - val_loss: 0.3670\n",
      "Epoch 13/20\n",
      "363/363 [==============================] - 0s 1ms/step - loss: 0.3945 - val_loss: 0.3647\n",
      "Epoch 14/20\n",
      "363/363 [==============================] - 1s 2ms/step - loss: 0.3900 - val_loss: 0.3600\n",
      "Epoch 15/20\n",
      "363/363 [==============================] - 0s 1ms/step - loss: 0.3852 - val_loss: 0.3566\n",
      "Epoch 16/20\n",
      "363/363 [==============================] - 0s 1ms/step - loss: 0.3827 - val_loss: 0.3532\n",
      "Epoch 17/20\n",
      "363/363 [==============================] - 0s 1ms/step - loss: 0.3793 - val_loss: 0.3527\n",
      "Epoch 18/20\n",
      "363/363 [==============================] - 0s 1ms/step - loss: 0.3774 - val_loss: 0.3583\n",
      "Epoch 19/20\n",
      "363/363 [==============================] - 1s 1ms/step - loss: 0.3750 - val_loss: 0.3498\n",
      "Epoch 20/20\n",
      "363/363 [==============================] - 0s 1ms/step - loss: 0.3727 - val_loss: 0.3495\n",
      "162/162 [==============================] - 0s 769us/step - loss: 0.3641\n"
     ]
    }
   ],
   "source": [
    "model.compile(loss=\"mean_squared_error\", optimizer=\"sgd\")\n",
    "history = model.fit(X_train, y_train, epochs=20,\n",
    "                    validation_data=(X_valid, y_valid))\n",
    "mse_test = model.evaluate(X_test, y_test)"
   ]
  },
  {
   "cell_type": "code",
   "execution_count": 33,
   "metadata": {},
   "outputs": [
    {
     "data": {
      "text/plain": [
       "array([[2.3966956],\n",
       "       [3.3373933],\n",
       "       [2.1594954]], dtype=float32)"
      ]
     },
     "execution_count": 33,
     "metadata": {},
     "output_type": "execute_result"
    }
   ],
   "source": [
    "X_predr = X_test[:3]\n",
    "y_pred = model.predict(X_predr)\n",
    "y_pred"
   ]
  },
  {
   "cell_type": "markdown",
   "metadata": {},
   "source": [
    "### Complex models using the functional API\n",
    "\n",
    "One example of a nonsequential neural network is the following:\n",
    "<center><img src=\"img/non_sequential.png\"></img></center>\n",
    "It is used for learning the deep patterns as well as the simple rules, through the short path."
   ]
  },
  {
   "cell_type": "code",
   "execution_count": 37,
   "metadata": {},
   "outputs": [],
   "source": [
    "input_ = keras.layers.Input(shape=X_train.shape[1:])\n",
    "hidden1 = keras.layers.Dense(30, activation=\"relu\")(input_)\n",
    "hidden2 = keras.layers.Dense(15, activation=\"relu\")(hidden1)\n",
    "concat = keras.layers.Concatenate()([input_, hidden2])\n",
    "output = keras.layers.Dense(1)(concat)\n",
    "\n",
    "model = keras.Model(inputs=[input_], outputs=[output])"
   ]
  },
  {
   "cell_type": "code",
   "execution_count": 38,
   "metadata": {},
   "outputs": [
    {
     "name": "stdout",
     "output_type": "stream",
     "text": [
      "Epoch 1/20\n",
      "363/363 [==============================] - 1s 1ms/step - loss: 1425.9247 - val_loss: 26.4639\n",
      "Epoch 2/20\n",
      "363/363 [==============================] - 0s 998us/step - loss: 271.1783 - val_loss: 728.6556\n",
      "Epoch 3/20\n",
      "363/363 [==============================] - 0s 1ms/step - loss: 5944.3735 - val_loss: 21022.8184\n",
      "Epoch 4/20\n",
      "363/363 [==============================] - 0s 1ms/step - loss: 292344.9688 - val_loss: 644968.9375\n",
      "Epoch 5/20\n",
      "363/363 [==============================] - 1s 2ms/step - loss: 9082048.0000 - val_loss: 18387888.0000\n",
      "Epoch 6/20\n",
      "363/363 [==============================] - 0s 1ms/step - loss: 246448928.0000 - val_loss: 549481920.0000\n",
      "Epoch 7/20\n",
      "363/363 [==============================] - 0s 1ms/step - loss: 8305761792.0000 - val_loss: 15059102720.0000\n",
      "Epoch 8/20\n",
      "363/363 [==============================] - 0s 1ms/step - loss: 147085656064.0000 - val_loss: 436059865088.0000\n",
      "Epoch 9/20\n",
      "363/363 [==============================] - 0s 1ms/step - loss: 4437341896704.0000 - val_loss: 12666442612736.0000\n",
      "Epoch 10/20\n",
      "363/363 [==============================] - 0s 1ms/step - loss: 105981061103616.0000 - val_loss: 369061707907072.0000\n",
      "Epoch 11/20\n",
      "363/363 [==============================] - 0s 1ms/step - loss: 2980880712728576.0000 - val_loss: 10782369367719936.0000\n",
      "Epoch 12/20\n",
      "363/363 [==============================] - 0s 1ms/step - loss: 114061815847059456.0000 - val_loss: 312114414406860800.0000\n",
      "Epoch 13/20\n",
      "363/363 [==============================] - 0s 1ms/step - loss: 3060139321949421568.0000 - val_loss: 9090544984905482240.0000\n",
      "Epoch 14/20\n",
      "363/363 [==============================] - 1s 2ms/step - loss: 136582944087357784064.0000 - val_loss: 269633992943508389888.0000\n",
      "Epoch 15/20\n",
      "363/363 [==============================] - 1s 1ms/step - loss: 2010755058204380495872.0000 - val_loss: 7814134351905624686592.0000\n",
      "Epoch 16/20\n",
      "363/363 [==============================] - 0s 1ms/step - loss: 80742083357770067738624.0000 - val_loss: 224607808043066633224192.0000\n",
      "Epoch 17/20\n",
      "363/363 [==============================] - 0s 1ms/step - loss: 3441012693183733153398784.0000 - val_loss: 6703528349641977347702784.0000\n",
      "Epoch 18/20\n",
      "363/363 [==============================] - 1s 1ms/step - loss: 53326327383625488259874816.0000 - val_loss: 195520600658853763521445888.0000\n",
      "Epoch 19/20\n",
      "363/363 [==============================] - 0s 1ms/step - loss: 1565271019619442322562875392.0000 - val_loss: 5587392456623206421476933632.0000\n",
      "Epoch 20/20\n",
      "363/363 [==============================] - 0s 1ms/step - loss: 50483802476176823276332384256.0000 - val_loss: 160731617868373064686789197824.0000\n",
      "162/162 [==============================] - 0s 779us/step - loss: 3455736820496080366537336160256.0000\n"
     ]
    }
   ],
   "source": [
    "model.compile(loss=\"mean_squared_error\", optimizer=\"sgd\")\n",
    "model.fit(X_train, y_train, epochs=20, validation_data=(X_valid, y_valid))\n",
    "nonsequential = model.evaluate(X_test, y_test)"
   ]
  },
  {
   "cell_type": "markdown",
   "metadata": {},
   "source": [
    "Send a subset of features through the wide path and a different subset through the deep path.\n",
    "<center><img src=\"img/non_sequential2.png\"></img></center>"
   ]
  },
  {
   "cell_type": "code",
   "execution_count": 43,
   "metadata": {},
   "outputs": [],
   "source": [
    "# at least name he most important layers\n",
    "inputA = keras.layers.Input(shape=[5], name=\"wide_input\")\n",
    "inputB = keras.layers.Input(shape=[6], name=\"deep_input\")\n",
    "hidden1 = keras.layers.Dense(30, activation=\"relu\")(inputB)\n",
    "hidden2 = keras.layers.Dense(30, activation=\"relu\")(hidden1)\n",
    "concat = keras.layers.concatenate([inputA, hidden2])\n",
    "output = keras.layers.Dense(1, name=\"output\")(concat)\n",
    "model = keras.Model(inputs=[inputA, inputB], outputs=[output])"
   ]
  },
  {
   "cell_type": "code",
   "execution_count": 44,
   "metadata": {},
   "outputs": [
    {
     "name": "stderr",
     "output_type": "stream",
     "text": [
      "/usr/local/lib/python3.8/site-packages/tensorflow/python/keras/optimizer_v2/optimizer_v2.py:374: UserWarning: The `lr` argument is deprecated, use `learning_rate` instead.\n",
      "  warnings.warn(\n"
     ]
    },
    {
     "name": "stdout",
     "output_type": "stream",
     "text": [
      "Epoch 1/20\n",
      "363/363 [==============================] - 1s 1ms/step - loss: 1.8139 - val_loss: 0.7748\n",
      "Epoch 2/20\n",
      "363/363 [==============================] - 0s 1ms/step - loss: 0.7349 - val_loss: 0.6336\n",
      "Epoch 3/20\n",
      "363/363 [==============================] - 0s 1ms/step - loss: 0.6428 - val_loss: 0.5824\n",
      "Epoch 4/20\n",
      "363/363 [==============================] - 0s 1ms/step - loss: 0.6032 - val_loss: 0.5507\n",
      "Epoch 5/20\n",
      "363/363 [==============================] - 1s 1ms/step - loss: 0.5771 - val_loss: 0.5290\n",
      "Epoch 6/20\n",
      "363/363 [==============================] - 1s 1ms/step - loss: 0.5572 - val_loss: 0.5113\n",
      "Epoch 7/20\n",
      "363/363 [==============================] - 1s 2ms/step - loss: 0.5401 - val_loss: 0.4965\n",
      "Epoch 8/20\n",
      "363/363 [==============================] - 0s 1ms/step - loss: 0.5288 - val_loss: 0.4847\n",
      "Epoch 9/20\n",
      "363/363 [==============================] - 0s 1ms/step - loss: 0.5166 - val_loss: 0.4794\n",
      "Epoch 10/20\n",
      "363/363 [==============================] - 0s 1ms/step - loss: 0.5088 - val_loss: 0.4676\n",
      "Epoch 11/20\n",
      "363/363 [==============================] - 0s 1ms/step - loss: 0.5021 - val_loss: 0.4643\n",
      "Epoch 12/20\n",
      "363/363 [==============================] - 0s 1ms/step - loss: 0.4950 - val_loss: 0.4567\n",
      "Epoch 13/20\n",
      "363/363 [==============================] - 0s 1ms/step - loss: 0.4900 - val_loss: 0.4507\n",
      "Epoch 14/20\n",
      "363/363 [==============================] - 0s 1ms/step - loss: 0.4879 - val_loss: 0.4465\n",
      "Epoch 15/20\n",
      "363/363 [==============================] - 0s 1ms/step - loss: 0.4811 - val_loss: 0.4445\n",
      "Epoch 16/20\n",
      "363/363 [==============================] - 1s 2ms/step - loss: 0.4759 - val_loss: 0.4445\n",
      "Epoch 17/20\n",
      "363/363 [==============================] - 0s 1ms/step - loss: 0.4708 - val_loss: 0.4353\n",
      "Epoch 18/20\n",
      "363/363 [==============================] - 0s 1ms/step - loss: 0.4680 - val_loss: 0.4336\n",
      "Epoch 19/20\n",
      "363/363 [==============================] - 0s 1ms/step - loss: 0.4648 - val_loss: 0.4289\n",
      "Epoch 20/20\n",
      "363/363 [==============================] - 0s 1ms/step - loss: 0.4636 - val_loss: 0.4275\n"
     ]
    }
   ],
   "source": [
    "model.compile(loss=\"mse\", optimizer=keras.optimizers.SGD(lr=1e-3))\n",
    "\n",
    "X_train_A, X_train_B = X_train[:, :5], X_train[:, 2:]\n",
    "X_valid_A, X_valid_B = X_valid[:, :5], X_valid[:, 2:]\n",
    "X_test_A, X_test_B = X_test[:, :5], X_test[:, 2:]\n",
    "X_new_A, X_new_B = X_test_A[:3], X_test_B[:3]\n",
    "\n",
    "history = model.fit((X_train_A, X_train_B), y_train, epochs=20, \n",
    "                    validation_data=((X_valid_A, X_valid_B), y_valid))"
   ]
  },
  {
   "cell_type": "code",
   "execution_count": 46,
   "metadata": {},
   "outputs": [
    {
     "name": "stdout",
     "output_type": "stream",
     "text": [
      "162/162 [==============================] - 0s 895us/step - loss: 0.4504\n"
     ]
    },
    {
     "data": {
      "text/plain": [
       "array([[2.4145455],\n",
       "       [2.5913994],\n",
       "       [2.5508673]], dtype=float32)"
      ]
     },
     "execution_count": 46,
     "metadata": {},
     "output_type": "execute_result"
    }
   ],
   "source": [
    "mse_test = model.evaluate((X_test_A, X_test_B), y_test)\n",
    "y_pred = model.predict((X_new_A, X_new_B))\n",
    "y_pred"
   ]
  },
  {
   "cell_type": "markdown",
   "metadata": {},
   "source": [
    "### Multiple outputs\n",
    "Examples:\n",
    "- Locate and classify objects\n",
    "- Independent tasks, a single ANN is better because it can learn useful features across tasks\n",
    "- Like a regularization technique \n",
    "<center><img src=\"img/non_sequential3.png\"></img></center>"
   ]
  },
  {
   "cell_type": "code",
   "execution_count": 47,
   "metadata": {},
   "outputs": [],
   "source": [
    "inputA = keras.layers.Input(shape=[5], name=\"wide_input\")\n",
    "inputB = keras.layers.Input(shape=[6], name=\"deep_input\")\n",
    "hidden1 = keras.layers.Dense(30, activation=\"relu\")(inputB)\n",
    "hidden2 = keras.layers.Dense(30, activation=\"relu\")(hidden1)\n",
    "concat = keras.layers.concatenate([inputA, hidden2])\n",
    "output = keras.layers.Dense(1, name=\"main_output\")(concat)\n",
    "aux_output = keras.layers.Dense(1, name=\"aux_output\")(hidden2)\n",
    "model = keras.Model(inputs=[inputA, inputB], outputs=[output, aux_output])"
   ]
  },
  {
   "cell_type": "code",
   "execution_count": 49,
   "metadata": {},
   "outputs": [],
   "source": [
    "# List of losses, if we only pass one, the same is used for both outputs.\n",
    "# We care much more for the main output loss, so lets declare its weight to 90%\n",
    "model.compile(loss=[\"mse\", \"mse\"], loss_weights=[0.9, 0.1], optimizer=\"sgd\")"
   ]
  },
  {
   "cell_type": "code",
   "execution_count": 50,
   "metadata": {},
   "outputs": [
    {
     "name": "stdout",
     "output_type": "stream",
     "text": [
      "Epoch 1/20\n",
      "363/363 [==============================] - 2s 2ms/step - loss: 1.2195 - main_output_loss: 1.1674 - aux_output_loss: 1.6886 - val_loss: 0.7318 - val_main_output_loss: 0.6800 - val_aux_output_loss: 1.1981\n",
      "Epoch 2/20\n",
      "363/363 [==============================] - 0s 1ms/step - loss: 0.6830 - main_output_loss: 0.6362 - aux_output_loss: 1.1037 - val_loss: 0.5406 - val_main_output_loss: 0.4900 - val_aux_output_loss: 0.9957\n",
      "Epoch 3/20\n",
      "363/363 [==============================] - 1s 2ms/step - loss: 0.5940 - main_output_loss: 0.5511 - aux_output_loss: 0.9801 - val_loss: 0.4915 - val_main_output_loss: 0.4415 - val_aux_output_loss: 0.9412\n",
      "Epoch 4/20\n",
      "363/363 [==============================] - 1s 1ms/step - loss: 0.5113 - main_output_loss: 0.4710 - aux_output_loss: 0.8744 - val_loss: 0.4621 - val_main_output_loss: 0.4270 - val_aux_output_loss: 0.7776\n",
      "Epoch 5/20\n",
      "363/363 [==============================] - 1s 1ms/step - loss: 0.4808 - main_output_loss: 0.4506 - aux_output_loss: 0.7528 - val_loss: 0.4382 - val_main_output_loss: 0.4101 - val_aux_output_loss: 0.6908\n",
      "Epoch 6/20\n",
      "363/363 [==============================] - 1s 1ms/step - loss: 0.4404 - main_output_loss: 0.4148 - aux_output_loss: 0.6699 - val_loss: 0.4040 - val_main_output_loss: 0.3790 - val_aux_output_loss: 0.6286\n",
      "Epoch 7/20\n",
      "363/363 [==============================] - 1s 2ms/step - loss: 0.4295 - main_output_loss: 0.4074 - aux_output_loss: 0.6285 - val_loss: 0.4012 - val_main_output_loss: 0.3794 - val_aux_output_loss: 0.5974\n",
      "Epoch 8/20\n",
      "363/363 [==============================] - 1s 2ms/step - loss: 0.4229 - main_output_loss: 0.4024 - aux_output_loss: 0.6076 - val_loss: 0.3909 - val_main_output_loss: 0.3709 - val_aux_output_loss: 0.5710\n",
      "Epoch 9/20\n",
      "363/363 [==============================] - 0s 1ms/step - loss: 0.4158 - main_output_loss: 0.3976 - aux_output_loss: 0.5795 - val_loss: 0.4017 - val_main_output_loss: 0.3829 - val_aux_output_loss: 0.5712\n",
      "Epoch 10/20\n",
      "363/363 [==============================] - 1s 1ms/step - loss: 0.4074 - main_output_loss: 0.3899 - aux_output_loss: 0.5648 - val_loss: 0.3745 - val_main_output_loss: 0.3567 - val_aux_output_loss: 0.5344\n",
      "Epoch 11/20\n",
      "363/363 [==============================] - 1s 1ms/step - loss: 0.3988 - main_output_loss: 0.3821 - aux_output_loss: 0.5494 - val_loss: 0.3728 - val_main_output_loss: 0.3559 - val_aux_output_loss: 0.5254\n",
      "Epoch 12/20\n",
      "363/363 [==============================] - 1s 1ms/step - loss: 0.3994 - main_output_loss: 0.3839 - aux_output_loss: 0.5386 - val_loss: 0.3774 - val_main_output_loss: 0.3620 - val_aux_output_loss: 0.5165\n",
      "Epoch 13/20\n",
      "363/363 [==============================] - 1s 1ms/step - loss: 0.3947 - main_output_loss: 0.3794 - aux_output_loss: 0.5328 - val_loss: 0.3673 - val_main_output_loss: 0.3514 - val_aux_output_loss: 0.5101\n",
      "Epoch 14/20\n",
      "363/363 [==============================] - 1s 2ms/step - loss: 0.3898 - main_output_loss: 0.3754 - aux_output_loss: 0.5195 - val_loss: 0.3611 - val_main_output_loss: 0.3460 - val_aux_output_loss: 0.4963\n",
      "Epoch 15/20\n",
      "363/363 [==============================] - 1s 1ms/step - loss: 0.3846 - main_output_loss: 0.3705 - aux_output_loss: 0.5121 - val_loss: 0.3559 - val_main_output_loss: 0.3411 - val_aux_output_loss: 0.4886\n",
      "Epoch 16/20\n",
      "363/363 [==============================] - 0s 1ms/step - loss: 0.3813 - main_output_loss: 0.3672 - aux_output_loss: 0.5081 - val_loss: 0.3534 - val_main_output_loss: 0.3392 - val_aux_output_loss: 0.4811\n",
      "Epoch 17/20\n",
      "363/363 [==============================] - 0s 1ms/step - loss: 0.3767 - main_output_loss: 0.3634 - aux_output_loss: 0.4962 - val_loss: 0.3541 - val_main_output_loss: 0.3406 - val_aux_output_loss: 0.4755\n",
      "Epoch 18/20\n",
      "363/363 [==============================] - 1s 2ms/step - loss: 0.3752 - main_output_loss: 0.3622 - aux_output_loss: 0.4926 - val_loss: 0.3488 - val_main_output_loss: 0.3352 - val_aux_output_loss: 0.4704\n",
      "Epoch 19/20\n",
      "363/363 [==============================] - 0s 1ms/step - loss: 0.3737 - main_output_loss: 0.3610 - aux_output_loss: 0.4877 - val_loss: 0.3491 - val_main_output_loss: 0.3356 - val_aux_output_loss: 0.4707\n",
      "Epoch 20/20\n",
      "363/363 [==============================] - 0s 1ms/step - loss: 0.3683 - main_output_loss: 0.3561 - aux_output_loss: 0.4782 - val_loss: 0.3547 - val_main_output_loss: 0.3424 - val_aux_output_loss: 0.4656\n"
     ]
    }
   ],
   "source": [
    "# We need to provide labels for each output:\n",
    "history = model.fit(\n",
    "    [X_train_A, X_train_B], [y_train, y_train], epochs=20,\n",
    "    validation_data=([X_valid_A, X_valid_B], [y_valid, y_valid])\n",
    ")"
   ]
  },
  {
   "cell_type": "code",
   "execution_count": 51,
   "metadata": {},
   "outputs": [
    {
     "name": "stdout",
     "output_type": "stream",
     "text": [
      "162/162 [==============================] - 0s 1ms/step - loss: 0.3702 - main_output_loss: 0.3599 - aux_output_loss: 0.4630\n"
     ]
    }
   ],
   "source": [
    "total_loss, main_loss, aux_loss = model.evaluate(\n",
    "    [X_test_A, X_test_B], [y_test, y_test]\n",
    ")"
   ]
  },
  {
   "cell_type": "code",
   "execution_count": 53,
   "metadata": {},
   "outputs": [
    {
     "name": "stdout",
     "output_type": "stream",
     "text": [
      "[[2.3520784]\n",
      " [3.307941 ]\n",
      " [2.219055 ]] [[2.161956 ]\n",
      " [3.3371372]\n",
      " [2.0777373]]\n"
     ]
    }
   ],
   "source": [
    "y_pred_main, y_pred_aux = model.predict([X_new_A, X_new_B])\n",
    "print(y_pred_main, y_pred_aux)"
   ]
  },
  {
   "cell_type": "code",
   "execution_count": null,
   "metadata": {},
   "outputs": [],
   "source": [
    "# Save and load a model\n",
    "model.save(\"my_model.h5\")\n",
    "load_model = model.load(\"my_model.h5\")"
   ]
  },
  {
   "cell_type": "markdown",
   "metadata": {},
   "source": [
    "### Callbacks"
   ]
  },
  {
   "cell_type": "code",
   "execution_count": null,
   "metadata": {},
   "outputs": [],
   "source": [
    "# Callbacks: save the model when something happen\n",
    "checkpoint = keras.callbacks.ModelCheckpoint(\"my_model2.h5\")\n",
    "history2 = model.fit(X_train, y_train, epochs=10, callbacks=[checkpoint])\n",
    "# using save_best_only=True, saves the best perfomance in the validation set\n",
    "checkpoint2 = keras.callbacks.ModelCheckpoint(\"my_model3.h5\", save_best_only=True)\n",
    "history2 = model.fit(X_train, y_train, epochs=10,\n",
    "                     validation_data=(X_valid, y_valid),\n",
    "                     callbacks=[checkpoint2])\n",
    "# rolling back to the best model\n",
    "best_model = keras.models.load_model(\"my_model3.h5\")"
   ]
  },
  {
   "cell_type": "code",
   "execution_count": null,
   "metadata": {},
   "outputs": [],
   "source": [
    "# Early stopping: stop when no progress is made in a number of epochs\n",
    "early_stopping = keras.callbacks.EarlyStopping(patience=10, restore_best_weights=True)\n",
    "history2 = model.fit(X_train, y_train, epochs=100,\n",
    "                     validation_data=(X_valid, y_valid),\n",
    "                     callbacks=[checkpoint2, early_stopping])"
   ]
  },
  {
   "cell_type": "code",
   "execution_count": null,
   "metadata": {},
   "outputs": [],
   "source": [
    "#Custom callback, print something after epoch\n",
    "class PrintValTrainRatioCallback(keras.callbacks.Callback):\n",
    "    def on_epoch_end(self, epoch, logs):\n",
    "        print(\"\\nval/train: {:.2f}\".format(logs[\"val_loss\"] / logs[\"loss\"]))\n",
    "# There are a lot of implementations for a callback, page 316"
   ]
  },
  {
   "cell_type": "markdown",
   "metadata": {},
   "source": [
    "### Using the Subclassing API to build dynamic models\n",
    "\n",
    "The __Sequential API__ and the __Functional API__ are really useful, the model can be saved, clone, shared, it can be analized, the framework can infere shapes and check type... but it is static. The __Subclassing API__ allows us to make models with loops, conditionals, varying shapes, etc, but it doesn't have the benefits of the first two APIs. We can save and restore manually some parameters with _save_weights()_ and _load_weights()_\n"
   ]
  },
  {
   "cell_type": "code",
   "execution_count": 63,
   "metadata": {},
   "outputs": [],
   "source": [
    "class WideAndDeepModel(keras.Model):\n",
    "    def __init__(self, units=30, activation=\"relu\", **kwargs):\n",
    "        super().__init__(**kwargs) # handles standard args, e.g. name\n",
    "        self.hidden1 = keras.layers.Dense(units, activation=activation)\n",
    "        self.hidden2 = keras.layers.Dense(units, activation=activation)\n",
    "        self.main_output = keras.layers.Dense(1)\n",
    "        self.aux_output = keras.layers.Dense(1)\n",
    "\n",
    "    def call(self, inputs):\n",
    "        # this method is versatile\n",
    "        inputA, inputB = inputs\n",
    "        hidden1 = self.hidden1(inputB)\n",
    "        hidden2 = self.hidden2(hidden1)\n",
    "        concat = keras.layers.concatenate([inputA, hidden2])\n",
    "        main_output = self.main_output(concat)\n",
    "        aux_output = self.aux_output(hidden2)\n",
    "        return main_output, aux_output\n",
    "\n",
    "model = WideAndDeepModel()"
   ]
  },
  {
   "cell_type": "code",
   "execution_count": 64,
   "metadata": {},
   "outputs": [
    {
     "name": "stdout",
     "output_type": "stream",
     "text": [
      "Epoch 1/20\n",
      "363/363 [==============================] - 1s 2ms/step - loss: 2.4381 - output_1_loss: 2.2326 - output_2_loss: 4.2876 - val_loss: 1.1334 - val_output_1_loss: 0.8985 - val_output_2_loss: 3.2469\n",
      "Epoch 2/20\n",
      "363/363 [==============================] - 1s 2ms/step - loss: 1.0177 - output_1_loss: 0.8270 - output_2_loss: 2.7339 - val_loss: 0.8445 - val_output_1_loss: 0.6938 - val_output_2_loss: 2.2005\n",
      "Epoch 3/20\n",
      "363/363 [==============================] - 1s 3ms/step - loss: 0.8293 - output_1_loss: 0.6949 - output_2_loss: 2.0382 - val_loss: 0.7408 - val_output_1_loss: 0.6254 - val_output_2_loss: 1.7793\n",
      "Epoch 4/20\n",
      "363/363 [==============================] - 1s 3ms/step - loss: 0.7547 - output_1_loss: 0.6428 - output_2_loss: 1.7620 - val_loss: 0.6867 - val_output_1_loss: 0.5834 - val_output_2_loss: 1.6161\n",
      "Epoch 5/20\n",
      "363/363 [==============================] - 1s 3ms/step - loss: 0.7111 - output_1_loss: 0.6075 - output_2_loss: 1.6427 - val_loss: 0.6538 - val_output_1_loss: 0.5555 - val_output_2_loss: 1.5385\n",
      "Epoch 6/20\n",
      "363/363 [==============================] - 1s 3ms/step - loss: 0.6831 - output_1_loss: 0.5842 - output_2_loss: 1.5732 - val_loss: 0.6288 - val_output_1_loss: 0.5331 - val_output_2_loss: 1.4900\n",
      "Epoch 7/20\n",
      "363/363 [==============================] - 1s 3ms/step - loss: 0.6601 - output_1_loss: 0.5644 - output_2_loss: 1.5217 - val_loss: 0.6099 - val_output_1_loss: 0.5167 - val_output_2_loss: 1.4492\n",
      "Epoch 8/20\n",
      "363/363 [==============================] - 1s 3ms/step - loss: 0.6408 - output_1_loss: 0.5482 - output_2_loss: 1.4747 - val_loss: 0.5914 - val_output_1_loss: 0.5004 - val_output_2_loss: 1.4110\n",
      "Epoch 9/20\n",
      "363/363 [==============================] - 1s 3ms/step - loss: 0.6232 - output_1_loss: 0.5332 - output_2_loss: 1.4334 - val_loss: 0.5777 - val_output_1_loss: 0.4891 - val_output_2_loss: 1.3748\n",
      "Epoch 10/20\n",
      "363/363 [==============================] - 1s 2ms/step - loss: 0.6089 - output_1_loss: 0.5217 - output_2_loss: 1.3941 - val_loss: 0.5664 - val_output_1_loss: 0.4803 - val_output_2_loss: 1.3412\n",
      "Epoch 11/20\n",
      "363/363 [==============================] - 1s 3ms/step - loss: 0.5965 - output_1_loss: 0.5117 - output_2_loss: 1.3591 - val_loss: 0.5554 - val_output_1_loss: 0.4712 - val_output_2_loss: 1.3123\n",
      "Epoch 12/20\n",
      "363/363 [==============================] - 1s 2ms/step - loss: 0.5871 - output_1_loss: 0.5048 - output_2_loss: 1.3285 - val_loss: 0.5465 - val_output_1_loss: 0.4643 - val_output_2_loss: 1.2859\n",
      "Epoch 13/20\n",
      "363/363 [==============================] - 1s 3ms/step - loss: 0.5789 - output_1_loss: 0.4987 - output_2_loss: 1.3013 - val_loss: 0.5382 - val_output_1_loss: 0.4578 - val_output_2_loss: 1.2618\n",
      "Epoch 14/20\n",
      "363/363 [==============================] - 1s 2ms/step - loss: 0.5705 - output_1_loss: 0.4920 - output_2_loss: 1.2763 - val_loss: 0.5316 - val_output_1_loss: 0.4530 - val_output_2_loss: 1.2388\n",
      "Epoch 15/20\n",
      "363/363 [==============================] - 1s 2ms/step - loss: 0.5639 - output_1_loss: 0.4874 - output_2_loss: 1.2525 - val_loss: 0.5260 - val_output_1_loss: 0.4492 - val_output_2_loss: 1.2176\n",
      "Epoch 16/20\n",
      "363/363 [==============================] - 1s 2ms/step - loss: 0.5601 - output_1_loss: 0.4855 - output_2_loss: 1.2318 - val_loss: 0.5199 - val_output_1_loss: 0.4445 - val_output_2_loss: 1.1981\n",
      "Epoch 17/20\n",
      "363/363 [==============================] - 1s 2ms/step - loss: 0.5525 - output_1_loss: 0.4794 - output_2_loss: 1.2107 - val_loss: 0.5154 - val_output_1_loss: 0.4416 - val_output_2_loss: 1.1803\n",
      "Epoch 18/20\n",
      "363/363 [==============================] - 1s 3ms/step - loss: 0.5468 - output_1_loss: 0.4752 - output_2_loss: 1.1916 - val_loss: 0.5096 - val_output_1_loss: 0.4372 - val_output_2_loss: 1.1613\n",
      "Epoch 19/20\n",
      "363/363 [==============================] - 1s 3ms/step - loss: 0.5426 - output_1_loss: 0.4726 - output_2_loss: 1.1728 - val_loss: 0.5053 - val_output_1_loss: 0.4342 - val_output_2_loss: 1.1449\n",
      "Epoch 20/20\n",
      "363/363 [==============================] - 1s 2ms/step - loss: 0.5378 - output_1_loss: 0.4691 - output_2_loss: 1.1559 - val_loss: 0.5023 - val_output_1_loss: 0.4328 - val_output_2_loss: 1.1279\n",
      "162/162 [==============================] - 0s 1ms/step - loss: 0.5273 - output_1_loss: 0.4600 - output_2_loss: 1.1329\n",
      "WARNING:tensorflow:5 out of the last 9 calls to <function Model.make_predict_function.<locals>.predict_function at 0x7fd95d467b80> triggered tf.function retracing. Tracing is expensive and the excessive number of tracings could be due to (1) creating @tf.function repeatedly in a loop, (2) passing tensors with different shapes, (3) passing Python objects instead of tensors. For (1), please define your @tf.function outside of the loop. For (2), @tf.function has experimental_relax_shapes=True option that relaxes argument shapes that can avoid unnecessary retracing. For (3), please refer to https://www.tensorflow.org/guide/function#controlling_retracing and https://www.tensorflow.org/api_docs/python/tf/function for  more details.\n"
     ]
    }
   ],
   "source": [
    "model.compile(loss=\"mean_squared_error\", loss_weights=[0.9, 0.1], optimizer=keras.optimizers.SGD(learning_rate=1e-3))\n",
    "history = model.fit((X_train_A, X_train_B),(y_train, y_train),\n",
    "             epochs=20, validation_data=((X_valid_A, X_valid_B), (y_valid, y_valid)))\n",
    "total_loss, main_loss, aux_loss = model.evaluate((X_test_A, X_test_B), (y_test, y_test))\n",
    "y_pred_main, y_pred_aux = model.predict((X_new_A, X_new_B))"
   ]
  },
  {
   "cell_type": "markdown",
   "metadata": {},
   "source": [
    "### Fine tuning Neural network hyperparameters"
   ]
  },
  {
   "cell_type": "code",
   "execution_count": null,
   "metadata": {},
   "outputs": [],
   "source": [
    "def build_model(n_hidden=1, n_neurons=30, learning_rate=3e-3, input_shape=[8]):\n",
    "    # Simple sequential model for univariate regression\n",
    "    model = keras.models.Sequential()\n",
    "    model.add(keras.layers.InputLayer(input_shape=input_shape))\n",
    "    for layer in range(n_hidden):\n",
    "        model.add(keras.layers.Dense(n_neurons, activation=\"relu\"))\n",
    "    model.add(keras.layers.Dense(1))\n",
    "    optimizer = keras.optimizers(keras.optimizers.SGD(lr=learning_rate))\n",
    "    model.compile(loss=\"mse\", optimizer=optimizer)\n",
    "    return model"
   ]
  },
  {
   "cell_type": "code",
   "execution_count": null,
   "metadata": {},
   "outputs": [],
   "source": [
    "# GridSearchCV or RandomizedSearchCV from scikit-learn into Keras\n",
    "# it is like a regular Scikit-Learn regressor: fit(), score(), predict()\n",
    "keras_regressor = keras.wrappers.scikit_learn.KerasRegressor(build_model)\n",
    "# Any extra parameter will be passed to the underlying Keras model\n",
    "keras_regressor.fit(X_train, y_train, epochs=100,\n",
    "                    validation_data=(X_valid, y_valid),\n",
    "                    callbacks=[keras.callbacks.EarlyStopping(patience=10)])\n",
    "mse_test = keras_regressor.score(X_test, y_test)\n",
    "y_pred = keras_regressor.predict(X_pred3)"
   ]
  },
  {
   "cell_type": "code",
   "execution_count": null,
   "metadata": {},
   "outputs": [],
   "source": [
    "from scipy.stats import reciprocal\n",
    "from sklearn.model_selection import RandomizedSearchCV\n",
    "\n",
    "param_distributions = {\n",
    "    \"n_hidden\": [0, 1, 2, 3],\n",
    "    \"n_neurons\": np.arange(1, 100),\n",
    "    \"learning_rate\": reciprocal(3e-4, 3e-2)\n",
    "}\n",
    "# RandomizedSearchCV uses K-fold cross-validation, it doesn't use the validation\n",
    "# data, this is only used for early stopping\n",
    "rnd_search_cv = RandomizedSearchCV(keras_regressor, param_distributions, n_iter=10, cv=3)\n",
    "rnd_search_cv.fit(X_train, y_train, epochs=100,\n",
    "                  validation_data=(X_valid, y_valid),\n",
    "                  callbacks=[keras.callbacks.EarlyStopping(patience=10)])"
   ]
  },
  {
   "cell_type": "code",
   "execution_count": null,
   "metadata": {},
   "outputs": [],
   "source": [
    "# Accesing the best parameters\n",
    "print(rnd_search_cv.best_params_)\n",
    "print(rnd_search_cv.best_score_)\n",
    "# saving\n",
    "model = rnd_search_cv.best_estimator_.model"
   ]
  },
  {
   "cell_type": "markdown",
   "metadata": {},
   "source": [
    "### Some tips on tuning\n",
    "\n",
    "Using the same number of neurons in all hidden layer perform just as well as a piramid (more neurons at the start).\n",
    "\n",
    "It is practical to use a model with more layers and neurons than needed, just use early stopping and other regularization techniques.\n",
    "\n",
    "__learning rate:__ Ideal would be to increase it per epoch by some little magnitude and when the loss explodes, pick a lr before it happened.\n",
    "\n",
    "__batch size:__ Small (2-32) is almost good anytime. If we have a GPU it can be larger (up to 8192 for e.g.), and using learning rate warm up, it lead to small training time.\n",
    "\n",
    "__update always the learning rate if other parameter is changed__"
   ]
  }
 ],
 "metadata": {
  "interpreter": {
   "hash": "949777d72b0d2535278d3dc13498b2535136f6dfe0678499012e853ee9abcab1"
  },
  "kernelspec": {
   "display_name": "Python 3.8.11 64-bit",
   "language": "python",
   "name": "python3"
  },
  "language_info": {
   "codemirror_mode": {
    "name": "ipython",
    "version": 3
   },
   "file_extension": ".py",
   "mimetype": "text/x-python",
   "name": "python",
   "nbconvert_exporter": "python",
   "pygments_lexer": "ipython3",
   "version": "3.8.11"
  },
  "orig_nbformat": 4
 },
 "nbformat": 4,
 "nbformat_minor": 2
}
