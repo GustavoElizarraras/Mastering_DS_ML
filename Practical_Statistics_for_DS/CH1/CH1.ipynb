{
 "cells": [
  {
   "cell_type": "markdown",
   "source": [
    "# Chapter 1 - Exploratory Data Analysis\n",
    "This chapter introduces basics concepts in statistics."
   ],
   "metadata": {}
  },
  {
   "cell_type": "code",
   "execution_count": 29,
   "source": [
    "import pandas as pd\n",
    "import seaborn as sns\n",
    "from scipy import stats\n",
    "state = pd.read_csv('state.csv')\n",
    "state.head(15)"
   ],
   "outputs": [
    {
     "output_type": "execute_result",
     "data": {
      "text/html": [
       "<div>\n",
       "<style scoped>\n",
       "    .dataframe tbody tr th:only-of-type {\n",
       "        vertical-align: middle;\n",
       "    }\n",
       "\n",
       "    .dataframe tbody tr th {\n",
       "        vertical-align: top;\n",
       "    }\n",
       "\n",
       "    .dataframe thead th {\n",
       "        text-align: right;\n",
       "    }\n",
       "</style>\n",
       "<table border=\"1\" class=\"dataframe\">\n",
       "  <thead>\n",
       "    <tr style=\"text-align: right;\">\n",
       "      <th></th>\n",
       "      <th>State</th>\n",
       "      <th>Population</th>\n",
       "      <th>Murder.Rate</th>\n",
       "      <th>Abbreviation</th>\n",
       "    </tr>\n",
       "  </thead>\n",
       "  <tbody>\n",
       "    <tr>\n",
       "      <th>0</th>\n",
       "      <td>Alabama</td>\n",
       "      <td>4779736</td>\n",
       "      <td>5.7</td>\n",
       "      <td>AL</td>\n",
       "    </tr>\n",
       "    <tr>\n",
       "      <th>1</th>\n",
       "      <td>Alaska</td>\n",
       "      <td>710231</td>\n",
       "      <td>5.6</td>\n",
       "      <td>AK</td>\n",
       "    </tr>\n",
       "    <tr>\n",
       "      <th>2</th>\n",
       "      <td>Arizona</td>\n",
       "      <td>6392017</td>\n",
       "      <td>4.7</td>\n",
       "      <td>AZ</td>\n",
       "    </tr>\n",
       "    <tr>\n",
       "      <th>3</th>\n",
       "      <td>Arkansas</td>\n",
       "      <td>2915918</td>\n",
       "      <td>5.6</td>\n",
       "      <td>AR</td>\n",
       "    </tr>\n",
       "    <tr>\n",
       "      <th>4</th>\n",
       "      <td>California</td>\n",
       "      <td>37253956</td>\n",
       "      <td>4.4</td>\n",
       "      <td>CA</td>\n",
       "    </tr>\n",
       "    <tr>\n",
       "      <th>5</th>\n",
       "      <td>Colorado</td>\n",
       "      <td>5029196</td>\n",
       "      <td>2.8</td>\n",
       "      <td>CO</td>\n",
       "    </tr>\n",
       "    <tr>\n",
       "      <th>6</th>\n",
       "      <td>Connecticut</td>\n",
       "      <td>3574097</td>\n",
       "      <td>2.4</td>\n",
       "      <td>CT</td>\n",
       "    </tr>\n",
       "    <tr>\n",
       "      <th>7</th>\n",
       "      <td>Delaware</td>\n",
       "      <td>897934</td>\n",
       "      <td>5.8</td>\n",
       "      <td>DE</td>\n",
       "    </tr>\n",
       "    <tr>\n",
       "      <th>8</th>\n",
       "      <td>Florida</td>\n",
       "      <td>18801310</td>\n",
       "      <td>5.8</td>\n",
       "      <td>FL</td>\n",
       "    </tr>\n",
       "    <tr>\n",
       "      <th>9</th>\n",
       "      <td>Georgia</td>\n",
       "      <td>9687653</td>\n",
       "      <td>5.7</td>\n",
       "      <td>GA</td>\n",
       "    </tr>\n",
       "    <tr>\n",
       "      <th>10</th>\n",
       "      <td>Hawaii</td>\n",
       "      <td>1360301</td>\n",
       "      <td>1.8</td>\n",
       "      <td>HI</td>\n",
       "    </tr>\n",
       "    <tr>\n",
       "      <th>11</th>\n",
       "      <td>Idaho</td>\n",
       "      <td>1567582</td>\n",
       "      <td>2.0</td>\n",
       "      <td>ID</td>\n",
       "    </tr>\n",
       "    <tr>\n",
       "      <th>12</th>\n",
       "      <td>Illinois</td>\n",
       "      <td>12830632</td>\n",
       "      <td>5.3</td>\n",
       "      <td>IL</td>\n",
       "    </tr>\n",
       "    <tr>\n",
       "      <th>13</th>\n",
       "      <td>Indiana</td>\n",
       "      <td>6483802</td>\n",
       "      <td>5.0</td>\n",
       "      <td>IN</td>\n",
       "    </tr>\n",
       "    <tr>\n",
       "      <th>14</th>\n",
       "      <td>Iowa</td>\n",
       "      <td>3046355</td>\n",
       "      <td>1.9</td>\n",
       "      <td>IA</td>\n",
       "    </tr>\n",
       "  </tbody>\n",
       "</table>\n",
       "</div>"
      ],
      "text/plain": [
       "          State  Population  Murder.Rate Abbreviation\n",
       "0       Alabama     4779736          5.7           AL\n",
       "1        Alaska      710231          5.6           AK\n",
       "2       Arizona     6392017          4.7           AZ\n",
       "3      Arkansas     2915918          5.6           AR\n",
       "4    California    37253956          4.4           CA\n",
       "5      Colorado     5029196          2.8           CO\n",
       "6   Connecticut     3574097          2.4           CT\n",
       "7      Delaware      897934          5.8           DE\n",
       "8       Florida    18801310          5.8           FL\n",
       "9       Georgia     9687653          5.7           GA\n",
       "10       Hawaii     1360301          1.8           HI\n",
       "11        Idaho     1567582          2.0           ID\n",
       "12     Illinois    12830632          5.3           IL\n",
       "13      Indiana     6483802          5.0           IN\n",
       "14         Iowa     3046355          1.9           IA"
      ]
     },
     "metadata": {},
     "execution_count": 29
    }
   ],
   "metadata": {}
  },
  {
   "cell_type": "code",
   "execution_count": 30,
   "source": [
    "# Mean, trimmed mean and median for the population\n",
    "print(state['Population'].mean())\n",
    "print(state['Population'].median())\n",
    "# We need scipy to do the trimmed mean, it drops 10% from each end\n",
    "print(stats.trim_mean(state['Population'], 0.1))"
   ],
   "outputs": [
    {
     "output_type": "stream",
     "name": "stdout",
     "text": [
      "6162876.3\n",
      "4436369.5\n",
      "4783697.125\n"
     ]
    }
   ],
   "metadata": {}
  },
  {
   "cell_type": "markdown",
   "source": [
    "## Estimates of Variability\n",
    "Measures whether the data values are tightly clustered or spread out. Some are:\n",
    "- **Deviations**: Difference between the observed values and the estimate of location. (errors, residuals)\n",
    "- **Variance**: The sum of squared deviations from the mean divided by $n - 1$ where $n$ is the number of data values. (mean-squared-error)\n",
    "- **Standard deviation**: square root of the variance\n",
    "- **Mean absolute deviation**: The mean of the absolute values of the deviations from the mean. ( l1-norm, Manhattan norm)\n",
    "- **Median absolute deviation from the median (MAD)**: \n",
    "- **Range**: THe difference between the largest and the smallest value in dataset.\n",
    "- **Order statistics**: Metrics based on the data values sorted from smallest to biggest. (ranks)\n",
    "- **Percentile**: The value such that P percent of the values take on this value or less and (100-P) percent take on this value or more. (quantile)\n",
    "- **Interquartile range**: Difference between the 75th and the 25th percentile. (IQR)\n",
    "\n",
    "The standard deviation is preferred in statistics over the mean absolute deviation"
   ],
   "metadata": {}
  },
  {
   "cell_type": "code",
   "execution_count": 31,
   "source": [
    "# standard deviation\n",
    "print(state['Population'].std())\n",
    "# the interquartile range (IQR)\n",
    "print(state['Population'].quantile(.75) - state['Population'].quantile(.25))\n",
    "# median absolute deviation from the median (MAD)\n",
    "from statsmodels.robust.scale import mad\n",
    "print(mad(state['Population']))"
   ],
   "outputs": [
    {
     "output_type": "stream",
     "name": "stdout",
     "text": [
      "6848235.347401142\n",
      "4847308.0\n",
      "3849876.1459979336\n"
     ]
    }
   ],
   "metadata": {}
  },
  {
   "cell_type": "markdown",
   "source": [
    "## Exploring the Data Distribution\n",
    "- **Boxplot**: are based on percentiles.\n",
    "- **Frequency table**\n",
    "- **Histogram**\n",
    "- **Density plot**"
   ],
   "metadata": {}
  },
  {
   "cell_type": "code",
   "execution_count": 32,
   "source": [
    "state['Murder.Rate'].quantile([0.05, 0.25, 0.5, 0.75, 0.95])"
   ],
   "outputs": [
    {
     "output_type": "execute_result",
     "data": {
      "text/plain": [
       "0.05    1.600\n",
       "0.25    2.425\n",
       "0.50    4.000\n",
       "0.75    5.550\n",
       "0.95    6.510\n",
       "Name: Murder.Rate, dtype: float64"
      ]
     },
     "metadata": {},
     "execution_count": 32
    }
   ],
   "metadata": {}
  },
  {
   "cell_type": "code",
   "execution_count": 33,
   "source": [
    "# boxplot of custom quantiles\n",
    "(state['Murder.Rate']\n",
    ".quantile([0.05, 0.25, 0.5, 0.75, 0.95])\n",
    ".plot.box())"
   ],
   "outputs": [
    {
     "output_type": "execute_result",
     "data": {
      "text/plain": [
       "<AxesSubplot:>"
      ]
     },
     "metadata": {},
     "execution_count": 33
    },
    {
     "output_type": "display_data",
     "data": {
      "image/png": "[encoded data removed]",
      "text/plain": [
       "<Figure size 432x288 with 1 Axes>"
      ]
     },
     "metadata": {
      "needs_background": "light"
     }
    }
   ],
   "metadata": {}
  },
  {
   "cell_type": "code",
   "execution_count": 34,
   "source": [
    "ax = (state['Population'] / 1_000_000).plot.box()\n",
    "ax.set_ylabel('Population (millions)')"
   ],
   "outputs": [
    {
     "output_type": "execute_result",
     "data": {
      "text/plain": [
       "Text(0, 0.5, 'Population (millions)')"
      ]
     },
     "metadata": {},
     "execution_count": 34
    },
    {
     "output_type": "display_data",
     "data": {
      "image/png": "[encoded data removed]",
      "text/plain": [
       "<Figure size 432x288 with 1 Axes>"
      ]
     },
     "metadata": {
      "needs_background": "light"
     }
    }
   ],
   "metadata": {}
  },
  {
   "cell_type": "markdown",
   "source": [
    "The points are outliers, the green line represents the median, the top and bottom of the box are the 75th and 25th percentiles. The whiskers wil not go beyond 1.5 times the IQR.\n",
    "\n",
    "## Frequency Tables and Histograms\n",
    "\n",
    "It divides up the varaible range into equally spaced segments and count how many fall within each segment."
   ],
   "metadata": {}
  },
  {
   "cell_type": "code",
   "execution_count": 35,
   "source": [
    "binnedPopulation = pd.cut(state['Population'], 10)\n",
    "binnedPopulation.value_counts()"
   ],
   "outputs": [
    {
     "output_type": "execute_result",
     "data": {
      "text/plain": [
       "(526935.67, 4232659.0]      24\n",
       "(4232659.0, 7901692.0]      14\n",
       "(7901692.0, 11570725.0]      6\n",
       "(11570725.0, 15239758.0]     2\n",
       "(15239758.0, 18908791.0]     1\n",
       "(18908791.0, 22577824.0]     1\n",
       "(22577824.0, 26246857.0]     1\n",
       "(33584923.0, 37253956.0]     1\n",
       "(26246857.0, 29915890.0]     0\n",
       "(29915890.0, 33584923.0]     0\n",
       "Name: Population, dtype: int64"
      ]
     },
     "metadata": {},
     "execution_count": 35
    }
   ],
   "metadata": {}
  },
  {
   "cell_type": "markdown",
   "source": [
    "**Bin sizes** are important, if they are too large, important features of the distribution can be obscured, if they are too small, the result is too granular and we can't see the bigger picture.\n",
    "\n",
    "A **histogram** is a way to visualize a frequency table, with bins on the x-axis and the data count on the y-axis."
   ],
   "metadata": {}
  },
  {
   "cell_type": "code",
   "execution_count": 36,
   "source": [
    "# Creating a histogram\n",
    "ax = (state['Population'] / 1_000_000).plot.hist(figsize=(4, 4))\n",
    "ax.set_xlabel('Population (millions')"
   ],
   "outputs": [
    {
     "output_type": "execute_result",
     "data": {
      "text/plain": [
       "Text(0.5, 0, 'Population (millions')"
      ]
     },
     "metadata": {},
     "execution_count": 36
    },
    {
     "output_type": "display_data",
     "data": {
      "image/png": "[encoded data removed]",
      "text/plain": [
       "<Figure size 288x288 with 1 Axes>"
      ]
     },
     "metadata": {
      "needs_background": "light"
     }
    }
   ],
   "metadata": {}
  },
  {
   "cell_type": "markdown",
   "source": [
    "### Statistical Moments\n",
    "- First moment: location\n",
    "- Second moment: variability\n",
    "- Third moment: skewness, data skewed to larger or smaller values.\n",
    "- Fourth moment: kurtosis, propensity of the data to have extreme values.\n",
    "\n",
    "Metrics does not measure skewness and kurtosis, this are discoverd through visualizations.\n",
    "\n",
    "## Density plots and Estimates\n",
    "\n",
    "A density plot can be thought of as a smoothed histogram, it is computed from the data through a kernel density."
   ],
   "metadata": {}
  },
  {
   "cell_type": "code",
   "execution_count": 37,
   "source": [
    "ax = state['Murder.Rate'].plot.hist(density=True, xlim=[0,12], bins=range(1,12))\n",
    "state['Murder.Rate'].plot.density(ax=ax)\n",
    "ax.set_xlabel('Murder rate (per 100,000)')"
   ],
   "outputs": [
    {
     "output_type": "execute_result",
     "data": {
      "text/plain": [
       "Text(0.5, 0, 'Murder rate (per 100,000)')"
      ]
     },
     "metadata": {},
     "execution_count": 37
    },
    {
     "output_type": "display_data",
     "data": {
      "image/png": "[encoded data removed]",
      "text/plain": [
       "<Figure size 432x288 with 1 Axes>"
      ]
     },
     "metadata": {
      "needs_background": "light"
     }
    }
   ],
   "metadata": {}
  },
  {
   "cell_type": "markdown",
   "source": [
    "Instead of counts bins, the are under the curve between any two points no the x-axis is calculated, and it correspond to the proportion of the distribution lying between those two points.\n",
    "\n",
    "## Exploring Binary and Categorical Data\n",
    "\n",
    "Bar charts are popular with categorical data, the columns are in the x-axis and the count is in the y-axis"
   ],
   "metadata": {}
  },
  {
   "cell_type": "code",
   "execution_count": 38,
   "source": [
    "dfw = pd.read_csv('airline_delays.csv')\n",
    "ax = dfw.transpose().plot.bar(figsize=(4,4), legend=False)\n",
    "ax.set_xlabel('Cause of delay')\n",
    "ax.set_ylabel('Count')"
   ],
   "outputs": [
    {
     "output_type": "execute_result",
     "data": {
      "text/plain": [
       "Text(0, 0.5, 'Count')"
      ]
     },
     "metadata": {},
     "execution_count": 38
    },
    {
     "output_type": "display_data",
     "data": {
      "image/png": "[encoded data removed]",
      "text/plain": [
       "<Figure size 288x288 with 1 Axes>"
      ]
     },
     "metadata": {
      "needs_background": "light"
     }
    }
   ],
   "metadata": {}
  },
  {
   "cell_type": "markdown",
   "source": [
    "In a histogram, the bars are typically shown touching each other, in a bar plot the bars are separated.\n",
    "\n",
    "**Mode**: value(s) that appears most often in the data. Summary statistic for categorical data and is generally not used for numeric data.\n",
    "\n",
    "**Expected Value**: Sum of values times their probability of accurrence, often used to sum up factor variable levels.\n",
    "\n",
    "## Correlation \n",
    "\n",
    "Variables X and Y (each with measured data) are said to be positively correlated if high values of X go with high values of Y, and low values of X go\n",
    "with low values of Y. If high values of X go with low values of Y, and vice versa, the variables are negatively correlated.\n",
    "\n",
    "**Pearson correlation:**\n",
    "\n",
    "$$\\rho = \\frac{\\text{cov}(X,Y)}{\\sigma_x \\sigma_y}$$\n",
    "\n",
    "$$r = \\frac{{}\\sum_{i=1}^{n} (x_i - \\overline{x})(y_i - \\overline{y})} {(n-1)\\sqrt{\\sum_{i=1}^{n} (x_i - \\overline{x})^2(y_i - \\overline{y})^2}}$$"
   ],
   "metadata": {}
  },
  {
   "cell_type": "code",
   "execution_count": 39,
   "source": [
    "sp500 = pd.read_csv('sp500_data.csv.gz', compression='gzip')\n",
    "sp500 = sp500[['T', 'CTL', 'FTR', 'VZ', 'LVLT', 'VXX']]\n",
    "sns.heatmap(sp500.corr(), vmin=-1, vmax=1, cmap=sns.diverging_palette(20, 220, as_cmap=True))"
   ],
   "outputs": [
    {
     "output_type": "execute_result",
     "data": {
      "text/plain": [
       "<AxesSubplot:>"
      ]
     },
     "metadata": {},
     "execution_count": 39
    },
    {
     "output_type": "display_data",
     "data": {
      "image/png": "[encoded data removed]",
      "text/plain": [
       "<Figure size 432x288 with 2 Axes>"
      ]
     },
     "metadata": {
      "needs_background": "light"
     }
    }
   ],
   "metadata": {}
  },
  {
   "cell_type": "markdown",
   "source": [
    "Like the mean and standard deviation, the correlation coefficient is sensitive to outliers in the data. Scikit-learn provide a variety of approaches. Even though, Person's correlation is the most used for exploratory analysis.\n",
    "\n",
    "### Scatterplots\n",
    "\n",
    "The standard way to visualize the relationship between two measured data variables is with a scatterplot."
   ],
   "metadata": {}
  },
  {
   "cell_type": "code",
   "execution_count": 40,
   "source": [
    "ax = sp500.plot.scatter(x='T', y='VZ', figsize=(4,4), marker='$\\u25EF$')\n",
    "ax.set_xlabel('ATT (T)')\n",
    "ax.set_ylabel('Verizon (VZ)')\n",
    "ax.axhline(0, color='grey', lw=1)\n",
    "ax.axvline(0, color='grey', lw=1)"
   ],
   "outputs": [
    {
     "output_type": "execute_result",
     "data": {
      "text/plain": [
       "<matplotlib.lines.Line2D at 0x7f005700c1f0>"
      ]
     },
     "metadata": {},
     "execution_count": 40
    },
    {
     "output_type": "display_data",
     "data": {
      "image/png": "[encoded data removed]",
      "text/plain": [
       "<Figure size 288x288 with 1 Axes>"
      ]
     },
     "metadata": {
      "needs_background": "light"
     }
    }
   ],
   "metadata": {}
  },
  {
   "cell_type": "markdown",
   "source": [
    "## Exploring two or more variables\n",
    "\n",
    "**Contingency table:** A tally of counts between two or more categorical varibles.\n",
    "\n",
    "**Hexagonal binning:** A plot of two numeric variables with the records binned into hexagons.\n",
    "\n",
    "**Contour plot:** A plot showing the density of two numeric variables like a topographical map.\n",
    "\n",
    "**Violin plot:** Similar to a box plot but showing the density estimate.\n",
    "\n",
    "Bivariate analysis involves both computing summary statistics and producing visual displays. Depends on the nature of the data: numeric vs categorical.\n",
    "\n",
    "### Haxagonal Binning\n",
    "\n",
    "Scatterplots are not good when there a lot of data values, we need a different way to visualize the relationship."
   ],
   "metadata": {}
  },
  {
   "cell_type": "code",
   "execution_count": null,
   "source": [
    "kc_tax0 = pd.read_csv('')\n",
    "#Removing outliers\n",
    "kc_tax0 = kc_tax0.loc[(kc_tax0.TaxAssessedValue < 750000) &\n",
    "                      (kc_tax0.SqFtTotLiving > 100) &\n",
    "                      (kc_tax0.SqFtTotLiving < 3500), :]\n",
    "# Plotting\n",
    "ax = kc_tax0.plot.hexbin(x = 'SqFtTotLiving', y='TaxAssessedValue', \n",
    "                         gridsize=30, sharex=False, figsize=(5,4))\n",
    "ax.set_xlabel('Finished Square Feet')\n",
    "ax.set_ylabel('Tax-Assessed Value')\n",
    "                        "
   ],
   "outputs": [],
   "metadata": {}
  }
 ],
 "metadata": {
  "orig_nbformat": 4,
  "language_info": {
   "name": "python",
   "version": "3.8.11",
   "mimetype": "text/x-python",
   "codemirror_mode": {
    "name": "ipython",
    "version": 3
   },
   "pygments_lexer": "ipython3",
   "nbconvert_exporter": "python",
   "file_extension": ".py"
  },
  "kernelspec": {
   "name": "python3",
   "display_name": "Python 3.8.11 64-bit"
  },
  "interpreter": {
   "hash": "4cd7ab41f5fca4b9b44701077e38c5ffd31fe66a6cab21e0214b68d958d0e462"
  }
 },
 "nbformat": 4,
 "nbformat_minor": 2
}